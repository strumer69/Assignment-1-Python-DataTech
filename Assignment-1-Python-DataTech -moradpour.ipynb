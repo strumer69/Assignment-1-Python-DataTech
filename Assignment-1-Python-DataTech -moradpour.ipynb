{
 "cells": [
  {
   "cell_type": "markdown",
   "id": "07169764",
   "metadata": {},
   "source": [
    "<div class=\"alert alert-info\"  >\n",
    "    <h1><center>تمرین اول دوره پایتون در علم داده</center></h1>\n",
    "</div>"
   ]
  },
  {
   "cell_type": "markdown",
   "id": "cce8a9f7",
   "metadata": {},
   "source": [
    " <div style=\"direction:rtl\">\n",
    " <h2 align=\"right\"> برای هر پرسش کدهایی بنویسید که پاسخ خواسته شده را تولید کند</h2>\n",
    " </div>"
   ]
  },
  {
   "cell_type": "markdown",
   "id": "4c16e179",
   "metadata": {},
   "source": [
    "<h4 align=\"right\"> هشت به توان نه را محاسبه نمایید </h4>"
   ]
  },
  {
   "cell_type": "code",
   "execution_count": 1,
   "id": "08a42a5d",
   "metadata": {},
   "outputs": [
    {
     "data": {
      "text/plain": [
       "134217728"
      ]
     },
     "execution_count": 1,
     "metadata": {},
     "output_type": "execute_result"
    }
   ],
   "source": [
    "#answer=134217728\n",
    "8**9"
   ]
  },
  {
   "cell_type": "markdown",
   "id": "57046fa8",
   "metadata": {},
   "source": [
    "<p>پاسخ عبارات زیر را بدس آورید </p>\n",
    "    <p> 25 * (10 + 6) </p>\n",
    "    <p> 25 * 10 + 6 </p>\n",
    "    <p>25 + 10 * 6  </p>\n",
    "    "
   ]
  },
  {
   "cell_type": "code",
   "execution_count": 4,
   "id": "61de2fa6",
   "metadata": {},
   "outputs": [
    {
     "data": {
      "text/plain": [
       "400"
      ]
     },
     "execution_count": 4,
     "metadata": {},
     "output_type": "execute_result"
    }
   ],
   "source": [
    "# answer=400\n",
    "25*(10+6)\n"
   ]
  },
  {
   "cell_type": "code",
   "execution_count": 5,
   "id": "77f1ed32",
   "metadata": {},
   "outputs": [
    {
     "data": {
      "text/plain": [
       "256"
      ]
     },
     "execution_count": 5,
     "metadata": {},
     "output_type": "execute_result"
    }
   ],
   "source": [
    "25 * 10 + 6"
   ]
  },
  {
   "cell_type": "code",
   "execution_count": 6,
   "id": "d961da2c",
   "metadata": {},
   "outputs": [
    {
     "data": {
      "text/plain": [
       "85"
      ]
     },
     "execution_count": 6,
     "metadata": {},
     "output_type": "execute_result"
    }
   ],
   "source": [
    "25 + 10 * 6"
   ]
  },
  {
   "cell_type": "markdown",
   "id": "c83b360b",
   "metadata": {},
   "source": [
    "<h4 align=\"right\"> نوع (تایپ) داده ی نتیجه عبارت 7 * 2.6 + 31 چیست؟ </h4>\n",
    "\n"
   ]
  },
  {
   "cell_type": "code",
   "execution_count": 7,
   "id": "38fcc175",
   "metadata": {},
   "outputs": [
    {
     "data": {
      "text/plain": [
       "float"
      ]
     },
     "execution_count": 7,
     "metadata": {},
     "output_type": "execute_result"
    }
   ],
   "source": [
    "#answer= float\n",
    "type( 7 * 2.6 + 31 )"
   ]
  },
  {
   "cell_type": "markdown",
   "id": "88ababc7",
   "metadata": {},
   "source": [
    "<h4 align=\"right\"> عدد 26.26632 را تا دو رقم اعشار گرد کنید </h4>\n"
   ]
  },
  {
   "cell_type": "code",
   "execution_count": 8,
   "id": "3afd835f",
   "metadata": {},
   "outputs": [
    {
     "data": {
      "text/plain": [
       "26.27"
      ]
     },
     "execution_count": 8,
     "metadata": {},
     "output_type": "execute_result"
    }
   ],
   "source": [
    "round(26.26632,2)"
   ]
  },
  {
   "cell_type": "markdown",
   "id": "62670482",
   "metadata": {},
   "source": [
    "<div style=\"direction:rtl\">\n",
    "    <h4 align=\"right\"> ابتدا رشته زیر را تعریف نمایید و سپس با استفاده از متد های رشته، آن را به کلمات تشکیل دهنده تفکیک نموده و در یک لیست ذخیره کنید. </h4>\n",
    "\n",
    "<div style=\"direction:ltr\">\n",
    "s = \"Hi this is a robot! Good morning!\""
   ]
  },
  {
   "cell_type": "code",
   "execution_count": 10,
   "id": "5841c056",
   "metadata": {},
   "outputs": [
    {
     "name": "stdout",
     "output_type": "stream",
     "text": [
      "['Hi', 'this', 'is', 'a', 'robot!', 'Good', 'morning!']\n"
     ]
    }
   ],
   "source": [
    "# ans= ['Hi', 'this', 'is', 'a', 'robot!', 'Good', 'morning!']\n",
    "\n",
    "s='Hi this is a robot! Good morning!'\n",
    "ans=s.split()\n",
    "print(ans)"
   ]
  },
  {
   "cell_type": "markdown",
   "id": "e560ee30",
   "metadata": {},
   "source": [
    "<div style=\"direction:rtl\">\n",
    "    <p> ابتدا دو متغیر زیر را تعریف نمایید : </p>\n",
    "    <p> product = \"laptop\"  </p>\n",
    "    <p> price = 350 </p>\n",
    "    <p>حال با دو روش مختلف  جمله ی زیر را نمایش دهید :  </p>\n",
    "    <p>The price of laptop is 350 dollars.  </p>\n",
    "    <p> اول: به صورت عادی </p>\n",
    "    <p>دوم : با استفاده از متد قالب بندی رشته </p>\n",
    "    (format)\n",
    " </div> \n",
    "\n"
   ]
  },
  {
   "cell_type": "code",
   "execution_count": 27,
   "id": "e6ae5ef9",
   "metadata": {},
   "outputs": [
    {
     "name": "stdout",
     "output_type": "stream",
     "text": [
      "the price of this laptop is 350 dollars\n",
      "the price of this laptop is 350 dollars\n"
     ]
    }
   ],
   "source": [
    "product='laptop'\n",
    "price=350\n",
    "\n",
    "print('the price of this',product,'is',price,'dollars')\n",
    "print('the price of this %s is %d dollars' %(product,price ))\n"
   ]
  },
  {
   "cell_type": "code",
   "execution_count": 13,
   "id": "6ed1b51f",
   "metadata": {},
   "outputs": [
    {
     "name": "stdout",
     "output_type": "stream",
     "text": [
      "The price of laptop is 350 dollars.\n"
     ]
    }
   ],
   "source": [
    "# [جواب در باکس 27]"
   ]
  },
  {
   "cell_type": "code",
   "execution_count": 14,
   "id": "4b73aef4",
   "metadata": {},
   "outputs": [
    {
     "name": "stdout",
     "output_type": "stream",
     "text": [
      "The price of laptop is 350 dollars.\n"
     ]
    }
   ],
   "source": [
    "# [جواب در باکس 27]"
   ]
  },
  {
   "cell_type": "markdown",
   "id": "1f09315e",
   "metadata": {},
   "source": [
    "<h4 align=\"right\"> ابتدا رشته زیر را تعریف نمایید . </h4>\n",
    "m = 'I am a data scientist!'\n"
   ]
  },
  {
   "cell_type": "code",
   "execution_count": 29,
   "id": "a04a4121",
   "metadata": {},
   "outputs": [],
   "source": [
    "m = 'I am a data scientist!'"
   ]
  },
  {
   "cell_type": "markdown",
   "id": "c149a69b",
   "metadata": {},
   "source": [
    "<h4 align=\"right\"> حال کاراکترهای زیر را از رشته بیابید </h4>\n",
    "'i'   ,  \n",
    "'c'"
   ]
  },
  {
   "cell_type": "code",
   "execution_count": 30,
   "id": "5e8ccd48",
   "metadata": {},
   "outputs": [
    {
     "name": "stdout",
     "output_type": "stream",
     "text": [
      "c\n",
      "i\n",
      "i\n"
     ]
    }
   ],
   "source": [
    "for i in m:\n",
    "    if i=='i'or i=='c':\n",
    "        print(i)"
   ]
  },
  {
   "cell_type": "code",
   "execution_count": 33,
   "id": "b36a07f6",
   "metadata": {},
   "outputs": [
    {
     "name": "stdout",
     "output_type": "stream",
     "text": [
      "c\n"
     ]
    }
   ],
   "source": [
    "for i in m:\n",
    "    if  i=='c':\n",
    "        print(str(i))"
   ]
  },
  {
   "cell_type": "code",
   "execution_count": 34,
   "id": "2412c376",
   "metadata": {},
   "outputs": [
    {
     "name": "stdout",
     "output_type": "stream",
     "text": [
      "dlroW olleH\n"
     ]
    }
   ],
   "source": [
    "txt = \"Hello World\"[::-1]\n",
    "print(txt)"
   ]
  },
  {
   "cell_type": "markdown",
   "id": "47a1267c",
   "metadata": {},
   "source": [
    "<h4 align=\"right\">رشته را معکوس کنید   </h4>"
   ]
  },
  {
   "cell_type": "code",
   "execution_count": 36,
   "id": "f4ce1c3b",
   "metadata": {},
   "outputs": [
    {
     "name": "stdout",
     "output_type": "stream",
     "text": [
      "!tsitneics atad a ma I\n"
     ]
    }
   ],
   "source": [
    "#ans='!tsitneics atad a ma I'\n",
    "print(m[::-1])\n"
   ]
  },
  {
   "cell_type": "markdown",
   "id": "e87c20b6",
   "metadata": {},
   "source": [
    "<h4 align=\"right\">در رشته زیر بررسی کنید که آیا هر حرف از نوع حروف بزرگ است؟  </h4>"
   ]
  },
  {
   "cell_type": "code",
   "execution_count": 38,
   "id": "10740919",
   "metadata": {},
   "outputs": [
    {
     "data": {
      "text/plain": [
       "False"
      ]
     },
     "execution_count": 38,
     "metadata": {},
     "output_type": "execute_result"
    }
   ],
   "source": [
    "# False\n",
    "s='w'\n",
    "s.istitle()"
   ]
  },
  {
   "cell_type": "markdown",
   "id": "87c8b557",
   "metadata": {},
   "source": [
    "<div style=\"direction:rtl\">\n",
    "    <h4 align=\"right\"> \"w\" </h4>\n",
    "    <h4 align=\"right\">در رشته زیر چندبار  ظاهر می شود؟  </h4>\n",
    "    <h4 align=\"right\"> می توانید با جستجو و تحقیق متد مناسب را بیابید؟</h4>\n",
    "    \n",
    " </div>"
   ]
  },
  {
   "cell_type": "code",
   "execution_count": 40,
   "id": "5d35096c",
   "metadata": {},
   "outputs": [
    {
     "name": "stdout",
     "output_type": "stream",
     "text": [
      "4\n"
     ]
    }
   ],
   "source": [
    "# 12\n",
    "t=0\n",
    "m = 'I am a data scientist!'\n",
    "for i in m:\n",
    "    if i=='a':\n",
    "        t+=1\n",
    "print(t)\n",
    "    \n"
   ]
  },
  {
   "cell_type": "markdown",
   "id": "83a73207",
   "metadata": {},
   "source": [
    "<h4 align=\"right\">آدرس سایت را از ایمیل زیر  جدا کنید؟ </h4>"
   ]
  },
  {
   "cell_type": "code",
   "execution_count": 43,
   "id": "0152d57e",
   "metadata": {},
   "outputs": [
    {
     "name": "stdout",
     "output_type": "stream",
     "text": [
      "yahoo.com\n"
     ]
    }
   ],
   "source": [
    "# ans='yahoo.com'\n",
    "s = 'John_Smith@yahoo.com'\n",
    "for i in range(0,len(s)):\n",
    "    if s[i]=='@':\n",
    "        print(s[i+1:])\n"
   ]
  },
  {
   "cell_type": "markdown",
   "id": "bccc51b1",
   "metadata": {},
   "source": [
    "<div style=\"direction:rtl\">\n",
    "    <h4 align=\"right\"> در لیست زیر به جای کلمه </h4>\n",
    "    <h4 align=\"right\"> window  </h4>\n",
    "    <h4 align=\"right\"> کلمه  </h4>\n",
    "    <h4 align=\"right\"> ِdoor  </h4>\n",
    "        <h4 align=\"right\"> ِرا بگذارید </h4>\n",
    " </div>"
   ]
  },
  {
   "cell_type": "code",
   "execution_count": 51,
   "id": "9811082e",
   "metadata": {},
   "outputs": [],
   "source": [
    "lst1 = [4,56,['a',4,'window'],['4.5', ['abc']]]"
   ]
  },
  {
   "cell_type": "code",
   "execution_count": 56,
   "id": "252fce37",
   "metadata": {},
   "outputs": [
    {
     "data": {
      "text/plain": [
       "[4, 56, ['a', 4, 'door'], ['4.5', ['abc']]]"
      ]
     },
     "execution_count": 56,
     "metadata": {},
     "output_type": "execute_result"
    }
   ],
   "source": [
    "# ans= [4, 56, ['a', 4, 'door'], ['4.5', ['abc']]]\n",
    "lst1[2][2]='door'\n",
    "lst1"
   ]
  },
  {
   "cell_type": "markdown",
   "id": "732618bc",
   "metadata": {},
   "source": [
    "<h4 align=\"right\">به کمک ایندکسینگ در لیست های تو در تو، کلمه زیر را خروجی دهید  </h4>\n",
    "'Tehran'"
   ]
  },
  {
   "cell_type": "code",
   "execution_count": 58,
   "id": "bcf90ed6",
   "metadata": {},
   "outputs": [],
   "source": [
    "lst2 = [1,2,[3,4],['a',['abc',200,['Tehran', 3]],23,'c'],1.5,7]"
   ]
  },
  {
   "cell_type": "code",
   "execution_count": 64,
   "id": "bdc9eb7a",
   "metadata": {},
   "outputs": [
    {
     "data": {
      "text/plain": [
       "'Tehran'"
      ]
     },
     "execution_count": 64,
     "metadata": {},
     "output_type": "execute_result"
    }
   ],
   "source": [
    "# ans='Tehran'\n",
    "lst2[3][1][2][0]"
   ]
  },
  {
   "cell_type": "markdown",
   "id": "ca29f4ac",
   "metadata": {},
   "source": [
    "<h4 align=\"right\">به کمک ایندکسینگ در ساختار تودرتوی زیر ، کلمه زیر را خروجی دهید  </h4>\n",
    "'Tehran'"
   ]
  },
  {
   "cell_type": "code",
   "execution_count": 65,
   "id": "cfaf46d4",
   "metadata": {},
   "outputs": [],
   "source": [
    "d = {'ab':[45,56,5.4,{'Countries':['Spain','USA','Germany',{'Iran':[24,'Tehran', 38.8, 85]}]}]}"
   ]
  },
  {
   "cell_type": "code",
   "execution_count": 73,
   "id": "8cf19614",
   "metadata": {},
   "outputs": [
    {
     "data": {
      "text/plain": [
       "'Tehran'"
      ]
     },
     "execution_count": 73,
     "metadata": {},
     "output_type": "execute_result"
    }
   ],
   "source": [
    "# ans='Tehran'\n",
    "d['ab'][3]['Countries'][3]['Iran'][1]"
   ]
  },
  {
   "cell_type": "markdown",
   "id": "138cc304",
   "metadata": {},
   "source": [
    "<h4 align=\"right\">می دانید که در تاپل ها امکان تغییر وجود ندارد. اما من از شما میخواهم که محتوای تاپل زیر را معکوس کنید. لطفا به هر روش ممکن خواسته من را برآورده کنید </h4>\n"
   ]
  },
  {
   "cell_type": "code",
   "execution_count": 74,
   "id": "ed3de3fc",
   "metadata": {},
   "outputs": [],
   "source": [
    "t = ('Iran' , 'Germany', 'Italy', 'Brazil')"
   ]
  },
  {
   "cell_type": "code",
   "execution_count": 78,
   "id": "cf084f7a",
   "metadata": {},
   "outputs": [
    {
     "data": {
      "text/plain": [
       "('Brazil', 'Italy', 'Germany', 'Iran')"
      ]
     },
     "execution_count": 78,
     "metadata": {},
     "output_type": "execute_result"
    }
   ],
   "source": [
    "# ans= ('Brazil', 'Italy', 'Germany', 'Iran')\n",
    "t[::-1]"
   ]
  },
  {
   "cell_type": "markdown",
   "id": "17c724ab",
   "metadata": {},
   "source": [
    "<h4 align=\"right\"> قطعه کدی بنویسید که بررسی کند آیا در رشته زیر کلمه </h4>\n",
    "<h4 align=\"right\"> 'cat' </h4>\n",
    "<h4 align=\"right\"> وجود دارد یا خیر؟ در صورت وجود کلمه تعداد آن را نمایش دهد.  </h4>\n",
    "<h4 align=\"right\"> و در صورت عدم وجود پیغام مناسب را نمایش دهد.  </h4>"
   ]
  },
  {
   "cell_type": "code",
   "execution_count": 79,
   "id": "bae28e3e",
   "metadata": {},
   "outputs": [],
   "source": [
    "s = 'The cat the best cat in the world. I want to buy this cat '"
   ]
  },
  {
   "cell_type": "code",
   "execution_count": 86,
   "id": "080535e9",
   "metadata": {},
   "outputs": [
    {
     "name": "stdout",
     "output_type": "stream",
     "text": [
      "Yes!,  the word 'cat' is in the string\n",
      "The count of 'cat' is: 3\n"
     ]
    }
   ],
   "source": [
    "# Yes!,  the word 'cat' is in the string\n",
    "#The count of 'cat' is: 3\n",
    "a=0\n",
    "for i in s.split():\n",
    "    if i=='cat':\n",
    "        a+=1\n",
    "if a>=1:\n",
    "    print('''Yes!,  the word 'cat' is in the string''')\n",
    "    print('''The count of 'cat' is:''',a)"
   ]
  },
  {
   "cell_type": "markdown",
   "id": "0b85ca00",
   "metadata": {},
   "source": [
    "<h4 align=\"right\"> کد نوشته شده در قسمت قبل را بر روی رشته زیر امتحان کنید </h4>\n"
   ]
  },
  {
   "cell_type": "code",
   "execution_count": 90,
   "id": "3208ea4d",
   "metadata": {},
   "outputs": [],
   "source": [
    "s2 = 'My cats are the bests in the world! '"
   ]
  },
  {
   "cell_type": "code",
   "execution_count": 91,
   "id": "550407d9",
   "metadata": {},
   "outputs": [
    {
     "name": "stdout",
     "output_type": "stream",
     "text": [
      "Sorry!,  the word 'cat' is not in the string.\n"
     ]
    }
   ],
   "source": [
    "#Sorry!,  the word 'cat' is not in the string.\n",
    "\n",
    "b=0\n",
    "for i in s2.split():\n",
    "    if i=='cat':\n",
    "        b+=1\n",
    "if b>=1:\n",
    "    print('''Yes!,  the word 'cat' is in the string''')\n",
    "    print('''The count of 'cat' is:''',a)\n",
    "else:\n",
    "    print('''Sorry!,  the word 'cat' is not in the string.''')"
   ]
  },
  {
   "cell_type": "markdown",
   "id": "3c225d9b",
   "metadata": {},
   "source": [
    "<h4 align=\"right\"> لیست زیر را به شکل نزولی مرتب کنید </h4>"
   ]
  },
  {
   "cell_type": "code",
   "execution_count": 92,
   "id": "a3d51143",
   "metadata": {},
   "outputs": [],
   "source": [
    "lst4 = [100,107,98,112,151, 113,99]"
   ]
  },
  {
   "cell_type": "code",
   "execution_count": 95,
   "id": "8c812aa8",
   "metadata": {},
   "outputs": [
    {
     "data": {
      "text/plain": [
       "[151, 113, 112, 107, 100, 99, 98]"
      ]
     },
     "execution_count": 95,
     "metadata": {},
     "output_type": "execute_result"
    }
   ],
   "source": [
    "#[151, 113, 112, 107, 100, 99, 98]\n",
    "\n",
    "lst4.sort(reverse=True)\n",
    "lst4"
   ]
  },
  {
   "cell_type": "markdown",
   "id": "4722f927",
   "metadata": {},
   "source": [
    "<h4 align=\"right\"> در دیکشنری زیر اولا دو اشتباه وجود دارد. با استفاده از روش مناسب این اشتباهات را تصحیح کنید.  ثانیا کشور زیر را با پایتخت آن در دیکشنری اضافه نمایید </h4>\n",
    "\n",
    "Spain  :  Madrid"
   ]
  },
  {
   "cell_type": "code",
   "execution_count": 106,
   "id": "9f871b1b",
   "metadata": {},
   "outputs": [],
   "source": [
    "Capitals = {'Iran': 'Tehran', 'Germany': 'Paris', 'France': 'Berlin', 'Italy': 'Rome'}"
   ]
  },
  {
   "cell_type": "code",
   "execution_count": 107,
   "id": "33da1dce",
   "metadata": {},
   "outputs": [],
   "source": [
    "Capitals['Germany']='Berlin'\n",
    "Capitals['France']='Paris'"
   ]
  },
  {
   "cell_type": "code",
   "execution_count": 108,
   "id": "75e872a4",
   "metadata": {},
   "outputs": [
    {
     "data": {
      "text/plain": [
       "{'Iran': 'Tehran', 'Germany': 'Berlin', 'France': 'Paris', 'Italy': 'Rome'}"
      ]
     },
     "execution_count": 108,
     "metadata": {},
     "output_type": "execute_result"
    }
   ],
   "source": [
    "#{'Iran': 'Tehran', 'Germany': 'Berlin', 'France': 'Paris', 'Italy': 'Rome'}\n",
    "\n",
    "Capitals"
   ]
  },
  {
   "cell_type": "code",
   "execution_count": 104,
   "id": "cb63991c",
   "metadata": {},
   "outputs": [],
   "source": [
    "Capitals['Spain']='Madrid'"
   ]
  },
  {
   "cell_type": "code",
   "execution_count": 105,
   "id": "2175a948",
   "metadata": {},
   "outputs": [
    {
     "data": {
      "text/plain": [
       "{'Iran': 'Tehran',\n",
       " 'Germany': 'Berlin',\n",
       " 'France': 'Paris',\n",
       " 'Italy': 'Rome',\n",
       " 'Spain': 'Madrid'}"
      ]
     },
     "execution_count": 105,
     "metadata": {},
     "output_type": "execute_result"
    }
   ],
   "source": [
    "Capitals"
   ]
  },
  {
   "cell_type": "markdown",
   "id": "b7205b1a",
   "metadata": {},
   "source": [
    "### موفق باشید"
   ]
  }
 ],
 "metadata": {
  "kernelspec": {
   "display_name": "Python 3 (ipykernel)",
   "language": "python",
   "name": "python3"
  },
  "language_info": {
   "codemirror_mode": {
    "name": "ipython",
    "version": 3
   },
   "file_extension": ".py",
   "mimetype": "text/x-python",
   "name": "python",
   "nbconvert_exporter": "python",
   "pygments_lexer": "ipython3",
   "version": "3.9.13"
  }
 },
 "nbformat": 4,
 "nbformat_minor": 5
}
